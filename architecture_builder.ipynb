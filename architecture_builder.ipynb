{
 "cells": [
  {
   "cell_type": "code",
   "execution_count": 1,
   "id": "30cf0d5a-2b94-4571-95ba-52a6dc395520",
   "metadata": {},
   "outputs": [
    {
     "name": "stderr",
     "output_type": "stream",
     "text": [
      "/tmp/ipykernel_4176710/861982921.py:41: UserWarning: Tight layout not applied. The left and right margins cannot be made large enough to accommodate all Axes decorations.\n",
      "  plt.tight_layout(); plt.savefig(path, dpi=160, bbox_inches=\"tight\")\n"
     ]
    },
    {
     "name": "stdout",
     "output_type": "stream",
     "text": [
      "✓ PNGs written: {\n",
      "  \"GRU-LSTM\": \"outputs/architectures/gru-lstm_architecture.png\",\n",
      "  \"SARIMA\": \"outputs/architectures/sarima_architecture.png\",\n",
      "  \"N-BEATS\": \"outputs/architectures/n-beats_architecture.png\",\n",
      "  \"TiDE\": \"outputs/architectures/tide_architecture.png\",\n",
      "  \"PatchTST\": \"outputs/architectures/patchtst_architecture.png\",\n",
      "  \"XGBoost\": \"outputs/architectures/xgboost_architecture.png\"\n",
      "}\n"
     ]
    }
   ],
   "source": [
    "# ── Architecture-diagram generator ──────────────────────────────────\n",
    "import matplotlib; matplotlib.use(\"Agg\")          # keep it non-interactive\n",
    "import matplotlib.pyplot as plt\n",
    "import matplotlib.patches as patches\n",
    "import os, textwrap, json\n",
    "\n",
    "SAVE_DIR = \"outputs/architectures\"                # ← change if you like\n",
    "os.makedirs(SAVE_DIR, exist_ok=True)\n",
    "\n",
    "PALETTE = [\"#4F6D7A\", \"#C0D6DF\", \"#DDB967\",       # pleasant muted tones\n",
    "           \"#95B8D1\", \"#ECC8AF\", \"#C7EFCF\",\n",
    "           \"#F95738\", \"#F4A259\", \"#2E4057\"]\n",
    "\n",
    "def draw_arch(name, layers, palette=PALETTE, save_dir=SAVE_DIR,\n",
    "              box_w=2.2, box_h=1.2, h_gap=0.6):\n",
    "    \"\"\"Render a left-to-right chain of labelled blocks & save as PNG.\"\"\"\n",
    "    fig_w = 1 + len(layers) * (box_w + h_gap)\n",
    "    fig, ax = plt.subplots(figsize=(fig_w, 2.6))\n",
    "    ax.axis(\"off\")\n",
    "\n",
    "    for i, layer in enumerate(layers):\n",
    "        x = 0.5 + i * (box_w + h_gap)\n",
    "        rect = patches.FancyBboxPatch(\n",
    "            (x, 0.7), box_w, box_h,\n",
    "            boxstyle=\"round,pad=0.3\",\n",
    "            facecolor=palette[i % len(palette)], edgecolor=\"black\", lw=1.5\n",
    "        )\n",
    "        ax.add_patch(rect)\n",
    "        ax.text(\n",
    "            x + box_w/2, 0.7 + box_h/2,\n",
    "            textwrap.fill(layer, 15),\n",
    "            ha=\"center\", va=\"center\", fontsize=8, color=\"white\"\n",
    "        )\n",
    "        if i < len(layers)-1:                    # arrow to next block\n",
    "            ax.annotate(\"\", xy=(x+box_w, 0.7+box_h/2),\n",
    "                        xytext=(x+box_w+h_gap-0.1, 0.7+box_h/2),\n",
    "                        arrowprops=dict(arrowstyle=\"->\", lw=1.3))\n",
    "\n",
    "    fig.suptitle(f\"{name} Architecture\", fontsize=12, fontweight=\"bold\")\n",
    "    path = os.path.join(save_dir, f\"{name.lower().replace('/','_')}_architecture.png\")\n",
    "    plt.tight_layout(); plt.savefig(path, dpi=160, bbox_inches=\"tight\")\n",
    "    plt.show(); plt.close(fig)\n",
    "    return path\n",
    "\n",
    "# ---------- declare the layer sequences (edit freely!) --------------\n",
    "architectures = {\n",
    "    \"GRU-LSTM\": [\"Input (window)\", \"GRU\", \"LSTM\", \"Dense / FC\", \"H-step forecast\"],\n",
    "    \"SARIMA\"  : [\"Raw series\", \"Differencing\", \"AR part\", \"MA part\",\n",
    "                 \"Seasonal (24 h)\", \"Linear combiner\", \"Forecast\"],\n",
    "    \"N-BEATS\" : [\"Input\", \"Trend block(s)\", \"Seasonal block(s)\",\n",
    "                 \"Generic block(s)\", \"Add-back residual\", \"Forecast\"],\n",
    "    \"TiDE\"    : [\"Input\", \"Temporal Gate\", \"Position-wise MLP Encoder\",\n",
    "                 \"Decoder\", \"Forecast\"],\n",
    "    \"PatchTST\": [\"Input\", \"Patch embedding\", \"Transformer encoders × N\",\n",
    "                 \"MLP head\", \"Forecast\"],\n",
    "    \"XGBoost\" : [\"Windowed features\", \"Gradient-boosted trees\", \"Forecast\"],\n",
    "}\n",
    "\n",
    "# ---------- generate & show -----------------------------------------\n",
    "generated = {name: draw_arch(name, layers) for name, layers in architectures.items()}\n",
    "print(\"✓ PNGs written:\", json.dumps(generated, indent=2))"
   ]
  }
 ],
 "metadata": {
  "kernelspec": {
   "display_name": "Mahin's Thesis Venv",
   "language": "python",
   "name": "mahin_mthesis_venv"
  },
  "language_info": {
   "codemirror_mode": {
    "name": "ipython",
    "version": 3
   },
   "file_extension": ".py",
   "mimetype": "text/x-python",
   "name": "python",
   "nbconvert_exporter": "python",
   "pygments_lexer": "ipython3",
   "version": "3.11.11"
  }
 },
 "nbformat": 4,
 "nbformat_minor": 5
}
